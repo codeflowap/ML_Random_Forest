{
 "cells": [
  {
   "cell_type": "markdown",
   "metadata": {},
   "source": [
    "# Decision Tree (Random Forest) Regression"
   ]
  },
  {
   "attachments": {
    "image.png": {
     "image/png": "[encoded data removed]"
    }
   },
   "cell_type": "markdown",
   "metadata": {},
   "source": [
    "![image.png](attachment:image.png)"
   ]
  },
  {
   "cell_type": "markdown",
   "metadata": {},
   "source": [
    "## 1 - LOAD DATA  "
   ]
  },
  {
   "cell_type": "markdown",
   "metadata": {},
   "source": [
    "#### Data Source "
   ]
  },
  {
   "cell_type": "code",
   "execution_count": null,
   "metadata": {},
   "outputs": [],
   "source": [
    "# surface_tension_ILs.xlsx"
   ]
  },
  {
   "cell_type": "markdown",
   "metadata": {},
   "source": [
    "#### Import Packages "
   ]
  },
  {
   "cell_type": "code",
   "execution_count": 189,
   "metadata": {
    "scrolled": true
   },
   "outputs": [],
   "source": [
    "from sklearn.metrics import classification_report,confusion_matrix\n",
    "from sklearn.tree import DecisionTreeClassifier\n",
    "from sklearn.model_selection import train_test_split\n",
    "\n",
    "from sklearn import tree\n",
    "import graphviz \n",
    "import pandas as pd\n",
    "import numpy as np\n",
    "import seaborn as sns\n",
    "\n",
    "from sklearn.metrics import mean_squared_error, median_absolute_error, explained_variance_score"
   ]
  },
  {
   "cell_type": "markdown",
   "metadata": {},
   "source": [
    "#### Preparing DataFrame"
   ]
  },
  {
   "cell_type": "code",
   "execution_count": 164,
   "metadata": {},
   "outputs": [],
   "source": [
    "df = pd.read_excel(\"surface_tension_ILs.xlsx\")"
   ]
  },
  {
   "cell_type": "code",
   "execution_count": 166,
   "metadata": {},
   "outputs": [],
   "source": [
    "df.drop_duplicates(inplace= True)"
   ]
  },
  {
   "cell_type": "code",
   "execution_count": 167,
   "metadata": {},
   "outputs": [
    {
     "data": {
      "text/html": [
       "<div>\n",
       "<style scoped>\n",
       "    .dataframe tbody tr th:only-of-type {\n",
       "        vertical-align: middle;\n",
       "    }\n",
       "\n",
       "    .dataframe tbody tr th {\n",
       "        vertical-align: top;\n",
       "    }\n",
       "\n",
       "    .dataframe thead th {\n",
       "        text-align: right;\n",
       "    }\n",
       "</style>\n",
       "<table border=\"1\" class=\"dataframe\">\n",
       "  <thead>\n",
       "    <tr style=\"text-align: right;\">\n",
       "      <th></th>\n",
       "      <th>T</th>\n",
       "      <th>Tc</th>\n",
       "      <th>Pc</th>\n",
       "      <th>w</th>\n",
       "      <th>ST</th>\n",
       "    </tr>\n",
       "  </thead>\n",
       "  <tbody>\n",
       "    <tr>\n",
       "      <th>0</th>\n",
       "      <td>278.75</td>\n",
       "      <td>1249.3</td>\n",
       "      <td>33.027</td>\n",
       "      <td>0.2157</td>\n",
       "      <td>37.31</td>\n",
       "    </tr>\n",
       "    <tr>\n",
       "      <th>1</th>\n",
       "      <td>288.15</td>\n",
       "      <td>1249.3</td>\n",
       "      <td>33.027</td>\n",
       "      <td>0.2157</td>\n",
       "      <td>36.58</td>\n",
       "    </tr>\n",
       "    <tr>\n",
       "      <th>2</th>\n",
       "      <td>293.15</td>\n",
       "      <td>1249.3</td>\n",
       "      <td>33.027</td>\n",
       "      <td>0.2157</td>\n",
       "      <td>36.94</td>\n",
       "    </tr>\n",
       "    <tr>\n",
       "      <th>3</th>\n",
       "      <td>298.15</td>\n",
       "      <td>1249.3</td>\n",
       "      <td>33.027</td>\n",
       "      <td>0.2157</td>\n",
       "      <td>35.71</td>\n",
       "    </tr>\n",
       "    <tr>\n",
       "      <th>4</th>\n",
       "      <td>303.15</td>\n",
       "      <td>1249.3</td>\n",
       "      <td>33.027</td>\n",
       "      <td>0.2157</td>\n",
       "      <td>36.43</td>\n",
       "    </tr>\n",
       "  </tbody>\n",
       "</table>\n",
       "</div>"
      ],
      "text/plain": [
       "        T      Tc      Pc       w     ST\n",
       "0  278.75  1249.3  33.027  0.2157  37.31\n",
       "1  288.15  1249.3  33.027  0.2157  36.58\n",
       "2  293.15  1249.3  33.027  0.2157  36.94\n",
       "3  298.15  1249.3  33.027  0.2157  35.71\n",
       "4  303.15  1249.3  33.027  0.2157  36.43"
      ]
     },
     "execution_count": 167,
     "metadata": {},
     "output_type": "execute_result"
    }
   ],
   "source": [
    "# Get columns from the user\n",
    "target = 'ST' \n",
    "df[target] = df[df.columns[-1]]\n",
    "features = ['T','Tc','Pc','w']\n",
    "target_list = [target]\n",
    "all_columns = ['T','Tc','Pc','w',target]\n",
    "df_sub = df[all_columns]\n",
    "df_sub.head()"
   ]
  },
  {
   "cell_type": "code",
   "execution_count": 168,
   "metadata": {},
   "outputs": [],
   "source": [
    "X = df_sub[features].to_numpy()\n",
    "y = df_sub[target].to_numpy()"
   ]
  },
  {
   "cell_type": "markdown",
   "metadata": {},
   "source": [
    "## 2 - DATA ANALYSIS "
   ]
  },
  {
   "cell_type": "code",
   "execution_count": 169,
   "metadata": {},
   "outputs": [],
   "source": [
    "# sns.pairplot(df_sub)"
   ]
  },
  {
   "cell_type": "markdown",
   "metadata": {},
   "source": [
    "## 3 - FIT THE MODEL"
   ]
  },
  {
   "cell_type": "code",
   "execution_count": 170,
   "metadata": {},
   "outputs": [
    {
     "data": {
      "text/plain": [
       "DecisionTreeRegressor(ccp_alpha=0.0, criterion='mse', max_depth=3,\n",
       "                      max_features=None, max_leaf_nodes=None,\n",
       "                      min_impurity_decrease=0.0, min_impurity_split=None,\n",
       "                      min_samples_leaf=1, min_samples_split=2,\n",
       "                      min_weight_fraction_leaf=0.0, presort='deprecated',\n",
       "                      random_state=None, splitter='best')"
      ]
     },
     "execution_count": 170,
     "metadata": {},
     "output_type": "execute_result"
    }
   ],
   "source": [
    "X_train, X_test, y_train, y_test = train_test_split(X, y, test_size=0.30, random_state=0) # random_state = the same split eahc tim\n",
    "\n",
    "clf = tree.DecisionTreeRegressor()   # for regression \n",
    "# clf = DecisionTreeClassifier()    for classifications\n",
    "\n",
    "param = {'ccp_alpha': 0.0, #Greater values of ccp_alpha increase the number of nodes pruned. \n",
    "                           # By default, the value is zero meaning that no pruning is performed.\n",
    " 'criterion': 'mse', # for classfification: gini | entropy \n",
    " 'max_depth': 3, # used for regularization (avoid ovetfitting). No.leaf nodes = 2^max_depth. It controls the complexity of branching\n",
    "         # small -> underfitting | large -> overfitting\n",
    " 'max_features': None,\n",
    " 'max_leaf_nodes': None,\n",
    " 'min_impurity_decrease': 0.0,\n",
    " 'min_impurity_split': None,\n",
    " 'min_samples_leaf': 1,\n",
    " 'min_samples_split': 2, # min_samples_split: Specifies the minimum number of samples required to split an internal node. \n",
    "         # The default is 2. If we set its value to 5, no further splits are permitted for nodes with five samples or fewer.\n",
    " 'min_weight_fraction_leaf': 0.0,\n",
    " 'presort': 'deprecated',\n",
    " 'random_state': None, \n",
    " 'splitter': 'best'} # best | random\n",
    "\n",
    "clf.set_params(**param)\n",
    "\n",
    "clf.fit(X_train, y_train)"
   ]
  },
  {
   "cell_type": "markdown",
   "metadata": {},
   "source": [
    "#### Predict y for X_test"
   ]
  },
  {
   "cell_type": "code",
   "execution_count": 171,
   "metadata": {},
   "outputs": [
    {
     "name": "stdout",
     "output_type": "stream",
     "text": [
      "Prediction array size = 312\n"
     ]
    }
   ],
   "source": [
    "predictions_test = clf.predict(X_test)\n",
    "print('Prediction array size =', predictions_test.size)"
   ]
  },
  {
   "cell_type": "markdown",
   "metadata": {},
   "source": [
    "## 4 - EXPORT Test | Train DFs "
   ]
  },
  {
   "cell_type": "code",
   "execution_count": 172,
   "metadata": {},
   "outputs": [],
   "source": [
    "X_train_df = pd.DataFrame(X_train)\n",
    "X_train_df.columns = features\n",
    "X_train_df['y_train'] = y_train\n",
    "\n",
    "X_test_df = pd.DataFrame(X_test)\n",
    "X_test_df.columns = features\n",
    "X_test_df['y_test'] = y_test\n",
    "\n",
    "X_test_df.to_excel('X_test_df.xlsx')\n",
    "X_train_df.to_excel('X_train_df.xlsx')"
   ]
  },
  {
   "cell_type": "markdown",
   "metadata": {},
   "source": [
    "#### Preparing DataFrame for the Test Split"
   ]
  },
  {
   "cell_type": "code",
   "execution_count": 173,
   "metadata": {
    "scrolled": false
   },
   "outputs": [
    {
     "data": {
      "text/html": [
       "<div>\n",
       "<style scoped>\n",
       "    .dataframe tbody tr th:only-of-type {\n",
       "        vertical-align: middle;\n",
       "    }\n",
       "\n",
       "    .dataframe tbody tr th {\n",
       "        vertical-align: top;\n",
       "    }\n",
       "\n",
       "    .dataframe thead th {\n",
       "        text-align: right;\n",
       "    }\n",
       "</style>\n",
       "<table border=\"1\" class=\"dataframe\">\n",
       "  <thead>\n",
       "    <tr style=\"text-align: right;\">\n",
       "      <th></th>\n",
       "      <th>T</th>\n",
       "      <th>Tc</th>\n",
       "      <th>Pc</th>\n",
       "      <th>w</th>\n",
       "      <th>STpred</th>\n",
       "    </tr>\n",
       "  </thead>\n",
       "  <tbody>\n",
       "    <tr>\n",
       "      <th>0</th>\n",
       "      <td>306.15</td>\n",
       "      <td>1038.702046</td>\n",
       "      <td>26.159</td>\n",
       "      <td>0.333371</td>\n",
       "      <td>42.714409</td>\n",
       "    </tr>\n",
       "    <tr>\n",
       "      <th>1</th>\n",
       "      <td>307.05</td>\n",
       "      <td>1119.200000</td>\n",
       "      <td>18.887</td>\n",
       "      <td>0.560757</td>\n",
       "      <td>31.030049</td>\n",
       "    </tr>\n",
       "  </tbody>\n",
       "</table>\n",
       "</div>"
      ],
      "text/plain": [
       "        T           Tc      Pc         w     STpred\n",
       "0  306.15  1038.702046  26.159  0.333371  42.714409\n",
       "1  307.05  1119.200000  18.887  0.560757  31.030049"
      ]
     },
     "execution_count": 173,
     "metadata": {},
     "output_type": "execute_result"
    }
   ],
   "source": [
    "df_predict_y_test = pd.DataFrame(predictions_test)\n",
    "df_X_test= pd.DataFrame(X_test)\n",
    "dfs = [df_X_test,df_predict_y_test]\n",
    "df_test_predict = pd.concat(dfs, axis=1)\n",
    "df_test_predict.columns = features + [target+'pred']\n",
    "df_test_predict.head(2)"
   ]
  },
  {
   "cell_type": "markdown",
   "metadata": {},
   "source": [
    "#### Join Predicted and Original DataFrames to Compare the Target (for TEST split)"
   ]
  },
  {
   "cell_type": "code",
   "execution_count": 174,
   "metadata": {
    "scrolled": false
   },
   "outputs": [
    {
     "name": "stdout",
     "output_type": "stream",
     "text": [
      "Total rows =  (313, 6)\n",
      "Number of rows (no duplicate) =  (313, 6)\n"
     ]
    },
    {
     "data": {
      "text/html": [
       "<div>\n",
       "<style scoped>\n",
       "    .dataframe tbody tr th:only-of-type {\n",
       "        vertical-align: middle;\n",
       "    }\n",
       "\n",
       "    .dataframe tbody tr th {\n",
       "        vertical-align: top;\n",
       "    }\n",
       "\n",
       "    .dataframe thead th {\n",
       "        text-align: right;\n",
       "    }\n",
       "</style>\n",
       "<table border=\"1\" class=\"dataframe\">\n",
       "  <thead>\n",
       "    <tr style=\"text-align: right;\">\n",
       "      <th></th>\n",
       "      <th>T</th>\n",
       "      <th>Tc</th>\n",
       "      <th>Pc</th>\n",
       "      <th>w</th>\n",
       "      <th>STpred</th>\n",
       "      <th>ST</th>\n",
       "    </tr>\n",
       "  </thead>\n",
       "  <tbody>\n",
       "    <tr>\n",
       "      <th>0</th>\n",
       "      <td>306.15</td>\n",
       "      <td>1038.702046</td>\n",
       "      <td>26.159</td>\n",
       "      <td>0.333371</td>\n",
       "      <td>42.714409</td>\n",
       "      <td>37.80</td>\n",
       "    </tr>\n",
       "    <tr>\n",
       "      <th>1</th>\n",
       "      <td>307.05</td>\n",
       "      <td>1119.200000</td>\n",
       "      <td>18.887</td>\n",
       "      <td>0.560757</td>\n",
       "      <td>31.030049</td>\n",
       "      <td>34.45</td>\n",
       "    </tr>\n",
       "    <tr>\n",
       "      <th>2</th>\n",
       "      <td>347.67</td>\n",
       "      <td>764.900000</td>\n",
       "      <td>15.655</td>\n",
       "      <td>0.869700</td>\n",
       "      <td>37.310714</td>\n",
       "      <td>35.21</td>\n",
       "    </tr>\n",
       "    <tr>\n",
       "      <th>3</th>\n",
       "      <td>319.87</td>\n",
       "      <td>1292.800000</td>\n",
       "      <td>24.139</td>\n",
       "      <td>0.389300</td>\n",
       "      <td>31.030049</td>\n",
       "      <td>34.84</td>\n",
       "    </tr>\n",
       "    <tr>\n",
       "      <th>4</th>\n",
       "      <td>318.15</td>\n",
       "      <td>1102.500000</td>\n",
       "      <td>19.998</td>\n",
       "      <td>0.514600</td>\n",
       "      <td>31.030049</td>\n",
       "      <td>26.56</td>\n",
       "    </tr>\n",
       "  </tbody>\n",
       "</table>\n",
       "</div>"
      ],
      "text/plain": [
       "        T           Tc      Pc         w     STpred     ST\n",
       "0  306.15  1038.702046  26.159  0.333371  42.714409  37.80\n",
       "1  307.05  1119.200000  18.887  0.560757  31.030049  34.45\n",
       "2  347.67   764.900000  15.655  0.869700  37.310714  35.21\n",
       "3  319.87  1292.800000  24.139  0.389300  31.030049  34.84\n",
       "4  318.15  1102.500000  19.998  0.514600  31.030049  26.56"
      ]
     },
     "execution_count": 174,
     "metadata": {},
     "output_type": "execute_result"
    }
   ],
   "source": [
    "df_final_compared_test = df_test_predict.merge(df_sub, how='left', on=features)\n",
    "print('Total rows = ', df_final_compared_test.shape)\n",
    "print('Number of rows (no duplicate) = ', df_final_compared_test.drop_duplicates().shape)\n",
    "df_final_compared_test.head()"
   ]
  },
  {
   "cell_type": "code",
   "execution_count": 175,
   "metadata": {},
   "outputs": [],
   "source": [
    "df_final_compared_test.to_excel('test_calc.xlsx')"
   ]
  },
  {
   "cell_type": "markdown",
   "metadata": {},
   "source": [
    "#### Predict y for X_train"
   ]
  },
  {
   "cell_type": "code",
   "execution_count": 176,
   "metadata": {},
   "outputs": [],
   "source": [
    "predictions_train = clf.predict(X_train)\n",
    "# print(classification_report(y_test,predictions))    for classification"
   ]
  },
  {
   "cell_type": "markdown",
   "metadata": {},
   "source": [
    "#### Preparing DataFrame for the Train Split"
   ]
  },
  {
   "cell_type": "code",
   "execution_count": 177,
   "metadata": {},
   "outputs": [
    {
     "data": {
      "text/html": [
       "<div>\n",
       "<style scoped>\n",
       "    .dataframe tbody tr th:only-of-type {\n",
       "        vertical-align: middle;\n",
       "    }\n",
       "\n",
       "    .dataframe tbody tr th {\n",
       "        vertical-align: top;\n",
       "    }\n",
       "\n",
       "    .dataframe thead th {\n",
       "        text-align: right;\n",
       "    }\n",
       "</style>\n",
       "<table border=\"1\" class=\"dataframe\">\n",
       "  <thead>\n",
       "    <tr style=\"text-align: right;\">\n",
       "      <th></th>\n",
       "      <th>T</th>\n",
       "      <th>Tc</th>\n",
       "      <th>Pc</th>\n",
       "      <th>w</th>\n",
       "      <th>STpred</th>\n",
       "    </tr>\n",
       "  </thead>\n",
       "  <tbody>\n",
       "    <tr>\n",
       "      <th>0</th>\n",
       "      <td>363.00</td>\n",
       "      <td>764.9</td>\n",
       "      <td>15.655</td>\n",
       "      <td>0.869700</td>\n",
       "      <td>37.310714</td>\n",
       "    </tr>\n",
       "    <tr>\n",
       "      <th>1</th>\n",
       "      <td>343.14</td>\n",
       "      <td>992.3</td>\n",
       "      <td>36.158</td>\n",
       "      <td>0.325512</td>\n",
       "      <td>42.714409</td>\n",
       "    </tr>\n",
       "  </tbody>\n",
       "</table>\n",
       "</div>"
      ],
      "text/plain": [
       "        T     Tc      Pc         w     STpred\n",
       "0  363.00  764.9  15.655  0.869700  37.310714\n",
       "1  343.14  992.3  36.158  0.325512  42.714409"
      ]
     },
     "execution_count": 177,
     "metadata": {},
     "output_type": "execute_result"
    }
   ],
   "source": [
    "df_predict_y_train = pd.DataFrame(predictions_train)\n",
    "df_X_train= pd.DataFrame(X_train)\n",
    "dfs2 = [df_X_train,df_predict_y_train]\n",
    "df_train_predict = pd.concat(dfs2, axis=1)\n",
    "df_train_predict.columns = features + [target+'pred']\n",
    "df_train_predict.head(2)"
   ]
  },
  {
   "cell_type": "markdown",
   "metadata": {},
   "source": [
    "#### Join Predicted and Original DataFrames to Compare the Target (for TRAIN split)"
   ]
  },
  {
   "cell_type": "code",
   "execution_count": 178,
   "metadata": {
    "scrolled": true
   },
   "outputs": [
    {
     "name": "stdout",
     "output_type": "stream",
     "text": [
      "Total rows =  (739, 6)\n",
      "Number of rows (no duplicate) =  (729, 6)\n"
     ]
    },
    {
     "data": {
      "text/html": [
       "<div>\n",
       "<style scoped>\n",
       "    .dataframe tbody tr th:only-of-type {\n",
       "        vertical-align: middle;\n",
       "    }\n",
       "\n",
       "    .dataframe tbody tr th {\n",
       "        vertical-align: top;\n",
       "    }\n",
       "\n",
       "    .dataframe thead th {\n",
       "        text-align: right;\n",
       "    }\n",
       "</style>\n",
       "<table border=\"1\" class=\"dataframe\">\n",
       "  <thead>\n",
       "    <tr style=\"text-align: right;\">\n",
       "      <th></th>\n",
       "      <th>T</th>\n",
       "      <th>Tc</th>\n",
       "      <th>Pc</th>\n",
       "      <th>w</th>\n",
       "      <th>STpred</th>\n",
       "      <th>ST</th>\n",
       "    </tr>\n",
       "  </thead>\n",
       "  <tbody>\n",
       "    <tr>\n",
       "      <th>0</th>\n",
       "      <td>363.00</td>\n",
       "      <td>764.900000</td>\n",
       "      <td>15.655000</td>\n",
       "      <td>0.869700</td>\n",
       "      <td>37.310714</td>\n",
       "      <td>38.80</td>\n",
       "    </tr>\n",
       "    <tr>\n",
       "      <th>1</th>\n",
       "      <td>343.14</td>\n",
       "      <td>992.300000</td>\n",
       "      <td>36.158000</td>\n",
       "      <td>0.325512</td>\n",
       "      <td>42.714409</td>\n",
       "      <td>38.85</td>\n",
       "    </tr>\n",
       "    <tr>\n",
       "      <th>2</th>\n",
       "      <td>343.00</td>\n",
       "      <td>789.000000</td>\n",
       "      <td>28.179000</td>\n",
       "      <td>0.491367</td>\n",
       "      <td>42.714409</td>\n",
       "      <td>45.30</td>\n",
       "    </tr>\n",
       "    <tr>\n",
       "      <th>3</th>\n",
       "      <td>308.15</td>\n",
       "      <td>1308.361744</td>\n",
       "      <td>93.909182</td>\n",
       "      <td>0.964544</td>\n",
       "      <td>31.030049</td>\n",
       "      <td>27.02</td>\n",
       "    </tr>\n",
       "    <tr>\n",
       "      <th>4</th>\n",
       "      <td>272.08</td>\n",
       "      <td>992.300000</td>\n",
       "      <td>36.158000</td>\n",
       "      <td>0.325512</td>\n",
       "      <td>42.714409</td>\n",
       "      <td>41.28</td>\n",
       "    </tr>\n",
       "  </tbody>\n",
       "</table>\n",
       "</div>"
      ],
      "text/plain": [
       "        T           Tc         Pc         w     STpred     ST\n",
       "0  363.00   764.900000  15.655000  0.869700  37.310714  38.80\n",
       "1  343.14   992.300000  36.158000  0.325512  42.714409  38.85\n",
       "2  343.00   789.000000  28.179000  0.491367  42.714409  45.30\n",
       "3  308.15  1308.361744  93.909182  0.964544  31.030049  27.02\n",
       "4  272.08   992.300000  36.158000  0.325512  42.714409  41.28"
      ]
     },
     "execution_count": 178,
     "metadata": {},
     "output_type": "execute_result"
    }
   ],
   "source": [
    "df_final_compared_train = df_train_predict.merge(df_sub, how='left', on=features)\n",
    "print('Total rows = ', df_final_compared_train.shape)\n",
    "print('Number of rows (no duplicate) = ', df_final_compared_train.drop_duplicates().shape)\n",
    "df_final_compared_train.head()"
   ]
  },
  {
   "cell_type": "code",
   "execution_count": 179,
   "metadata": {},
   "outputs": [],
   "source": [
    "df_final_compared_train.to_excel('train_calc.xlsx')"
   ]
  },
  {
   "cell_type": "markdown",
   "metadata": {},
   "source": [
    "# 5 - STATISTICAL ANALYSIS"
   ]
  },
  {
   "attachments": {
    "image.png": {
     "image/png": "[encoded data removed]"
    }
   },
   "cell_type": "markdown",
   "metadata": {},
   "source": [
    "![image.png](attachment:image.png)"
   ]
  },
  {
   "cell_type": "markdown",
   "metadata": {},
   "source": [
    "#### MARD (%)"
   ]
  },
  {
   "cell_type": "code",
   "execution_count": 180,
   "metadata": {
    "scrolled": true
   },
   "outputs": [
    {
     "name": "stdout",
     "output_type": "stream",
     "text": [
      "MARD = 9.870402283793394 %\n"
     ]
    }
   ],
   "source": [
    "def diff_mard(row):\n",
    "    return abs(row[0]-row[1])/row[1]\n",
    "\n",
    "df_final_compared_test['diff_mard'] = df_final_compared_test[[target+'pred',target]].apply(diff_mard, axis=1)\n",
    "MARD = 100 / df_final_compared_test.shape[0] * sum(df_final_compared_test['diff_mard'])\n",
    "print('MARD =', MARD, '%')"
   ]
  },
  {
   "cell_type": "markdown",
   "metadata": {},
   "source": [
    "#### MAD (%) "
   ]
  },
  {
   "cell_type": "code",
   "execution_count": 181,
   "metadata": {
    "scrolled": true
   },
   "outputs": [
    {
     "name": "stdout",
     "output_type": "stream",
     "text": [
      "MAD = 369.81080545912914 %\n"
     ]
    }
   ],
   "source": [
    "def diff_mad(row):\n",
    "    return abs(row[0]-row[1])\n",
    "\n",
    "df_final_compared_test['diff_mad'] = df_final_compared_test[[target+'pred',target]].apply(diff_mad, axis=1)\n",
    "MAD = 100 / df_final_compared_test.shape[0] * sum(df_final_compared_test['diff_mad'])\n",
    "print('MAD =', MAD, '%')"
   ]
  },
  {
   "cell_type": "markdown",
   "metadata": {},
   "source": [
    "#### MSD"
   ]
  },
  {
   "cell_type": "code",
   "execution_count": 182,
   "metadata": {},
   "outputs": [
    {
     "name": "stdout",
     "output_type": "stream",
     "text": [
      "MSD = 26.083344626077164 %\n"
     ]
    }
   ],
   "source": [
    "def diff_msd(row):\n",
    "    return (row[0]-row[1])*(row[0]-row[1])\n",
    "\n",
    "df_final_compared_test['diff_msd'] = df_final_compared_test[[target+'pred',target]].apply(diff_msd, axis=1)\n",
    "MSD = 1 / df_final_compared_test.shape[0] * sum(df_final_compared_test['diff_msd'])\n",
    "print('MSD =', MSD, '%')"
   ]
  },
  {
   "cell_type": "markdown",
   "metadata": {},
   "source": [
    "#### R2"
   ]
  },
  {
   "cell_type": "code",
   "execution_count": 183,
   "metadata": {},
   "outputs": [
    {
     "name": "stdout",
     "output_type": "stream",
     "text": [
      "R2 = 0.9827937646835506\n"
     ]
    }
   ],
   "source": [
    "def diff_R21(row):\n",
    "    return (row[0]-row[1])*(row[0]-row[1])\n",
    "def diff_R22(row):\n",
    "    return row*row\n",
    "\n",
    "df_final_compared_test['diff_R21'] = df_final_compared_test[[target+'pred',target]].apply(diff_R21, axis=1)\n",
    "df_final_compared_test['diff_R22'] = df_final_compared_test['ST'].apply(diff_R22)\n",
    "R2 = 1 - sum(df_final_compared_test['diff_R21'])/sum(df_final_compared_test['diff_R22'])\n",
    "print('R2 =', R2)"
   ]
  },
  {
   "cell_type": "markdown",
   "metadata": {},
   "source": [
    "#### AARD: Absolute average relative deviation"
   ]
  },
  {
   "cell_type": "markdown",
   "metadata": {},
   "source": [
    "#### RMSEP: Root mean square error of prediction"
   ]
  },
  {
   "cell_type": "code",
   "execution_count": 185,
   "metadata": {},
   "outputs": [
    {
     "data": {
      "text/plain": [
       "26.164519402801325"
      ]
     },
     "execution_count": 185,
     "metadata": {},
     "output_type": "execute_result"
    }
   ],
   "source": [
    "mean_squared_error(predictions_test,y_test)"
   ]
  },
  {
   "cell_type": "markdown",
   "metadata": {},
   "source": [
    "#### Median Absolute Error"
   ]
  },
  {
   "cell_type": "code",
   "execution_count": 187,
   "metadata": {
    "scrolled": true
   },
   "outputs": [
    {
     "data": {
      "text/plain": [
       "2.7228203294665985"
      ]
     },
     "execution_count": 187,
     "metadata": {},
     "output_type": "execute_result"
    }
   ],
   "source": [
    "median_absolute_error(predictions_test,y_test)"
   ]
  },
  {
   "cell_type": "markdown",
   "metadata": {},
   "source": [
    "#### Variance"
   ]
  },
  {
   "cell_type": "code",
   "execution_count": 191,
   "metadata": {},
   "outputs": [
    {
     "data": {
      "text/plain": [
       "0.5064395683562923"
      ]
     },
     "execution_count": 191,
     "metadata": {},
     "output_type": "execute_result"
    }
   ],
   "source": [
    "explained_variance_score(predictions_test,y_test)"
   ]
  },
  {
   "cell_type": "markdown",
   "metadata": {},
   "source": [
    "Various metrics to analysis the data in Scikitlearn:\n",
    "<br>\n",
    "https://scikit-learn.org/stable/modules/model_evaluation.html"
   ]
  },
  {
   "cell_type": "markdown",
   "metadata": {},
   "source": [
    "#### Fitting Score: quality of fitting (no info abou the test data)"
   ]
  },
  {
   "cell_type": "code",
   "execution_count": 106,
   "metadata": {},
   "outputs": [
    {
     "data": {
      "text/plain": [
       "0.6384070374601967"
      ]
     },
     "execution_count": 106,
     "metadata": {},
     "output_type": "execute_result"
    }
   ],
   "source": [
    "clf.score(X_test,y_test)"
   ]
  },
  {
   "cell_type": "markdown",
   "metadata": {},
   "source": [
    "## 6 - TUNIING PARAMETERS"
   ]
  },
  {
   "cell_type": "markdown",
   "metadata": {},
   "source": [
    "**Parameters**: \n",
    "<br>\n",
    "> 1- **max_depth**: used for regularization (avoid ovetfitting). No.leaf nodes = 2^max_depth. It controls the complexity of branching. small -> underfitting | large -> overfitting\n",
    "<br>\n",
    "> 2- **min_samples_split**: min_samples_split: Specifies the minimum number of samples required to split an internal node. The default is 2. If we set its value to 5, no further splits are permitted for nodes with five samples or fewer.\n",
    "<br>\n",
    "> 3- **ccp_alpha**: Greater values of ccp_alpha increase the number of nodes pruned. By default, the value is zero meaning that no pruning is performed. use **clf.cost_complexity_pruning_path(X_train, y_train)** for the range of ccp_alpha required for loop"
   ]
  },
  {
   "cell_type": "markdown",
   "metadata": {},
   "source": [
    "**Methods**: \n",
    "<br>\n",
    "> 1- Writing loops for **Parameters** and plotting MARD/MSE/etc. \n",
    "<br>\n",
    "2- Using **Grid Search** for automatic multi-parameter tuning\n",
    "<br>\n",
    "3- **Random Forest**"
   ]
  },
  {
   "cell_type": "markdown",
   "metadata": {},
   "source": [
    "### 1/3 - Writing Loop for max_depth (to be repeated for the other two parameters) "
   ]
  },
  {
   "cell_type": "code",
   "execution_count": 108,
   "metadata": {
    "scrolled": true
   },
   "outputs": [
    {
     "name": "stdout",
     "output_type": "stream",
     "text": [
      "COMPLETE\n",
      "COMPLETE\n",
      "COMPLETE\n",
      "COMPLETE\n",
      "COMPLETE\n"
     ]
    },
    {
     "data": {
      "image/png": "[encoded data removed]",
      "text/plain": [
       "<Figure size 432x864 with 4 Axes>"
      ]
     },
     "metadata": {
      "needs_background": "light"
     },
     "output_type": "display_data"
    }
   ],
   "source": [
    "from sklearn.metrics import classification_report,confusion_matrix\n",
    "from sklearn.tree import DecisionTreeClassifier\n",
    "from sklearn.model_selection import train_test_split\n",
    "\n",
    "from sklearn import tree\n",
    "# pip install graphviz\n",
    "import graphviz \n",
    "import pandas as pd\n",
    "import numpy as np\n",
    "\n",
    "# test_list = [0.1,0.2,0.3,0.4,0.5,0.6,0.7,0.8,0.9]\n",
    "test_list = [0.3]\n",
    "max_depth_list = [1,5,10,15,20]\n",
    "MARD = []\n",
    "MAD = []\n",
    "MSD = []\n",
    "R2 = []\n",
    "\n",
    "target = 'ST' \n",
    "df[target] = df[df.columns[-1]]\n",
    "features = ['T','Tc','Pc','w']\n",
    "target_list = [target]\n",
    "all_columns = ['T','Tc','Pc','w',target]\n",
    "df_sub = df[all_columns]\n",
    "df_sub.head()\n",
    "\n",
    "X = df_sub[features].to_numpy()\n",
    "y = df_sub[target].to_numpy()\n",
    "    \n",
    "for max_depth in max_depth_list:\n",
    "\n",
    "    X_train, X_test, y_train, y_test = train_test_split(X, y, test_size=0.3, random_state=0)\n",
    "\n",
    "    clf = tree.DecisionTreeRegressor()   # for regression \n",
    "    # clf = DecisionTreeClassifier()    for classifications\n",
    "    \n",
    "    param = {'ccp_alpha': 0.0,\n",
    "     'criterion': 'mse',\n",
    "     'max_depth': max_depth,\n",
    "     'max_features': None,\n",
    "     'max_leaf_nodes': None,\n",
    "     'min_impurity_decrease': 0.0,\n",
    "     'min_impurity_split': None,\n",
    "     'min_samples_leaf': 1,\n",
    "     'min_samples_split': 2,\n",
    "     'min_weight_fraction_leaf': 0.0,\n",
    "     'presort': 'deprecated',\n",
    "     'random_state': None,\n",
    "     'splitter': 'best'}\n",
    "\n",
    "    clf.set_params(**param)\n",
    "\n",
    "\n",
    "    clf.fit(X_train, y_train)\n",
    "\n",
    "    # X_test_df.to_excel('X_test_df.xlsx')\n",
    "    # X_train_df.to_excel('X_train_df.xlsx')\n",
    "\n",
    "    predictions_test = clf.predict(X_test)\n",
    "\n",
    "    df_predict_y_test = pd.DataFrame(predictions_test)\n",
    "    df_X_test= pd.DataFrame(X_test)\n",
    "    dfs = [df_X_test,df_predict_y_test]\n",
    "    df_test_predict = pd.concat(dfs, axis=1)\n",
    "    df_test_predict.columns = features + [target+'pred']\n",
    "\n",
    "    df_final_compared_test = df_test_predict.merge(df_sub, how='left', on=['T','Pc','Tc','w'])\n",
    "\n",
    "    # MARD\n",
    "    def diff_mard(row):\n",
    "        return abs(row[0]-row[1])/row[1]\n",
    "\n",
    "    df_final_compared_test['diff_mard'] = df_final_compared_test[[target+'pred',target]].apply(diff_mard, axis=1)\n",
    "    MARD.append(100 / df_final_compared_test.shape[0] * sum(df_final_compared_test['diff_mard']))\n",
    "    \n",
    "\n",
    "    # MAD\n",
    "    def diff_mad(row):\n",
    "        return abs(row[0]-row[1])\n",
    "\n",
    "    df_final_compared_test['diff_mad'] = df_final_compared_test[[target+'pred',target]].apply(diff_mad, axis=1)\n",
    "    MAD.append(100 / df_final_compared_test.shape[0] * sum(df_final_compared_test['diff_mad']))\n",
    "\n",
    "    # MSD\n",
    "    def diff_msd(row):\n",
    "        return (row[0]-row[1])*(row[0]-row[1])\n",
    "\n",
    "    df_final_compared_test['diff_msd'] = df_final_compared_test[[target+'pred',target]].apply(diff_msd, axis=1)\n",
    "    MSD.append(1 / df_final_compared_test.shape[0] * sum(df_final_compared_test['diff_msd']))\n",
    "\n",
    "    def diff_R21(row):\n",
    "        return (row[0]-row[1])*(row[0]-row[1])\n",
    "    def diff_R22(row):\n",
    "        return row*row\n",
    "\n",
    "    df_final_compared_test['diff_R21'] = df_final_compared_test[[target+'pred',target]].apply(diff_R21, axis=1)\n",
    "    df_final_compared_test['diff_R22'] = df_final_compared_test['ST'].apply(diff_R22)\n",
    "    R2.append(1 - sum(df_final_compared_test['diff_R21'])/sum(df_final_compared_test['diff_R22']))\n",
    "    print('COMPLETE')\n",
    "    \n",
    "\n",
    "import matplotlib.pyplot as plt\n",
    "\n",
    "x = max_depth_list\n",
    "\n",
    "y_MARD = MARD\n",
    "y_MAD = MAD\n",
    "y_MSD = MSD\n",
    "y_R2 = R2\n",
    "\n",
    "fig, (ax1, ax2, ax3, ax4) = plt.subplots(4, 1)\n",
    "fig.suptitle('MAX DEPTH EFFECT')\n",
    "\n",
    "ax1.plot(x, y_MARD, 'o-')\n",
    "ax1.set_ylabel('MARD (%)')\n",
    "\n",
    "ax2.plot(x, y_MAD, 'o-')\n",
    "ax2.set_ylabel('MAD (%)')\n",
    "\n",
    "ax3.plot(x, y_MSD, 'o-')\n",
    "ax3.set_ylabel('MSD')\n",
    "\n",
    "ax4.plot(x, y_R2, 'o-')\n",
    "ax4.set_xlabel('max_depth')\n",
    "ax4.set_ylabel('R2')\n",
    "\n",
    "fig.set_size_inches(6, 12, forward=True)\n",
    "\n",
    "plt.show()"
   ]
  },
  {
   "cell_type": "markdown",
   "metadata": {},
   "source": [
    "### 2/3- Using Grid Search (multi parameter tunning)"
   ]
  },
  {
   "cell_type": "code",
   "execution_count": 135,
   "metadata": {
    "scrolled": true
   },
   "outputs": [
    {
     "data": {
      "text/plain": [
       "{'ccp_alphas': array([0.00000000e+00, 1.60000000e-02, 2.98669005e-01, 7.89196152e-01,\n",
       "        1.96894026e+00, 8.87296648e+00, 9.88166884e+00, 2.74115042e+01]),\n",
       " 'impurities': array([24.84249885, 24.85849885, 25.15716786, 25.94636401, 27.91530427,\n",
       "        36.78827075, 46.66993959, 74.08144381])}"
      ]
     },
     "execution_count": 135,
     "metadata": {},
     "output_type": "execute_result"
    }
   ],
   "source": [
    "# find the range of ccp_alpha\n",
    "clf.cost_complexity_pruning_path(X_train, y_train)"
   ]
  },
  {
   "cell_type": "code",
   "execution_count": 136,
   "metadata": {
    "scrolled": true
   },
   "outputs": [
    {
     "name": "stdout",
     "output_type": "stream",
     "text": [
      "{'ccp_alpha': 0, 'max_depth': 10, 'min_samples_split': 10}\n",
      "3.4205339247250803\n"
     ]
    }
   ],
   "source": [
    "from sklearn.model_selection import GridSearchCV\n",
    "\n",
    "gs = GridSearchCV(clf,\n",
    "                  param_grid = {'max_depth': range(1, 11),\n",
    "                                'min_samples_split': range(10, 60, 100),\n",
    "                                'ccp_alpha': np.arange(0, 74, 5)},\n",
    "                  cv=5,\n",
    "                  n_jobs=1,\n",
    "                  scoring='neg_mean_squared_error')\n",
    "\n",
    "gs.fit(X_train, y_train)\n",
    "\n",
    "print(gs.best_params_)\n",
    "print(-gs.best_score_)"
   ]
  },
  {
   "cell_type": "markdown",
   "metadata": {},
   "source": [
    "#### Plotting Grid Search Results "
   ]
  },
  {
   "cell_type": "code",
   "execution_count": 411,
   "metadata": {},
   "outputs": [],
   "source": [
    "%matplotlib notebook"
   ]
  },
  {
   "cell_type": "code",
   "execution_count": 111,
   "metadata": {},
   "outputs": [],
   "source": [
    "from sklearn.model_selection import train_test_split\n",
    "\n",
    "from sklearn import tree\n",
    "# pip install graphviz\n",
    "import graphviz \n",
    "import pandas as pd\n",
    "import numpy as np\n",
    "\n",
    "# test_list = [0.1,0.2,0.3,0.4,0.5,0.6,0.7,0.8,0.9]\n",
    "test_list = [0.3]\n",
    "max_depth_list = [1,2,3]\n",
    "min_sample_splits = [2,5,10]\n",
    "MARD = []\n",
    "MAD = []\n",
    "MSD = []\n",
    "R2 = []\n",
    "MARD_multid = []\n",
    "\n",
    "target = 'ST' \n",
    "df[target] = df[df.columns[-1]]\n",
    "features = ['T','Tc','Pc','w']\n",
    "target_list = [target]\n",
    "all_columns = ['T','Tc','Pc','w',target]\n",
    "df_sub = df[all_columns]\n",
    "df_sub.head()\n",
    "\n",
    "X = df_sub[features].to_numpy()\n",
    "y = df_sub[target].to_numpy()\n",
    "    \n",
    "for min_sample_split in min_sample_splits:\n",
    "    for max_depth in max_depth_list:\n",
    "\n",
    "        X_train, X_test, y_train, y_test = train_test_split(X, y, test_size=0.3, random_state=0)\n",
    "\n",
    "        clf = tree.DecisionTreeRegressor()   # for regression \n",
    "        # clf = DecisionTreeClassifier()    for classifications\n",
    "\n",
    "        param = {'ccp_alpha': 0.0,\n",
    "         'criterion': 'mse',\n",
    "         'max_depth': max_depth,\n",
    "         'max_features': None,\n",
    "         'max_leaf_nodes': None,\n",
    "         'min_impurity_decrease': 0.0,\n",
    "         'min_impurity_split': None,\n",
    "         'min_samples_leaf': 1,\n",
    "         'min_samples_split': min_sample_split,\n",
    "         'min_weight_fraction_leaf': 0.0,\n",
    "         'presort': 'deprecated',\n",
    "         'random_state': None,\n",
    "         'splitter': 'best'}\n",
    "\n",
    "        clf.set_params(**param)\n",
    "\n",
    "\n",
    "        clf.fit(X_train, y_train)\n",
    "\n",
    "        # X_test_df.to_excel('X_test_df.xlsx')\n",
    "        # X_train_df.to_excel('X_train_df.xlsx')\n",
    "\n",
    "        predictions_test = clf.predict(X_test)\n",
    "\n",
    "        df_predict_y_test = pd.DataFrame(predictions_test)\n",
    "        df_X_test= pd.DataFrame(X_test)\n",
    "        dfs = [df_X_test,df_predict_y_test]\n",
    "        df_test_predict = pd.concat(dfs, axis=1)\n",
    "        df_test_predict.columns = features + [target+'pred']\n",
    "\n",
    "        df_final_compared_test = df_test_predict.merge(df_sub, how='left', on=['T','Pc','Tc','w'])\n",
    "\n",
    "        # MARD\n",
    "        def diff_mard(row):\n",
    "            return abs(row[0]-row[1])/row[1]\n",
    "\n",
    "        df_final_compared_test['diff_mard'] = df_final_compared_test[[target+'pred',target]].apply(diff_mard, axis=1)\n",
    "        MARD = (100 / df_final_compared_test.shape[0] * sum(df_final_compared_test['diff_mard']))\n",
    "\n",
    "\n",
    "        # MAD\n",
    "        def diff_mad(row):\n",
    "            return abs(row[0]-row[1])\n",
    "\n",
    "        df_final_compared_test['diff_mad'] = df_final_compared_test[[target+'pred',target]].apply(diff_mad, axis=1)\n",
    "        MAD = (100 / df_final_compared_test.shape[0] * sum(df_final_compared_test['diff_mad']))\n",
    "\n",
    "        # MSD\n",
    "        def diff_msd(row):\n",
    "            return (row[0]-row[1])*(row[0]-row[1])\n",
    "\n",
    "        df_final_compared_test['diff_msd'] = df_final_compared_test[[target+'pred',target]].apply(diff_msd, axis=1)\n",
    "        MSD = (1 / df_final_compared_test.shape[0] * sum(df_final_compared_test['diff_msd']))\n",
    "\n",
    "        def diff_R21(row):\n",
    "            return (row[0]-row[1])*(row[0]-row[1])\n",
    "        def diff_R22(row):\n",
    "            return row*row\n",
    "\n",
    "        df_final_compared_test['diff_R21'] = df_final_compared_test[[target+'pred',target]].apply(diff_R21, axis=1)\n",
    "        df_final_compared_test['diff_R22'] = df_final_compared_test['ST'].apply(diff_R22)\n",
    "        R2 = (1 - sum(df_final_compared_test['diff_R21'])/sum(df_final_compared_test['diff_R22']))\n",
    "        \n",
    "        MARD_multid.append([min_sample_split,max_depth,MARD])"
   ]
  },
  {
   "cell_type": "code",
   "execution_count": 112,
   "metadata": {},
   "outputs": [
    {
     "data": {
      "image/png": "[encoded data removed]",
      "text/plain": [
       "<Figure size 432x288 with 1 Axes>"
      ]
     },
     "metadata": {
      "needs_background": "light"
     },
     "output_type": "display_data"
    }
   ],
   "source": [
    "from mpl_toolkits import mplot3d\n",
    "import numpy as np\n",
    "import matplotlib.pyplot as plt\n",
    "# x = np.outer(np.linspace(-2, 2, 30), np.ones(30))\n",
    "# y = x.copy().T # transpose\n",
    "# z = np.cos(x ** 2 + y ** 2)\n",
    "x= []\n",
    "y = []\n",
    "z = []\n",
    "\n",
    "for item in MARD_multid:\n",
    "    x.append(item[0])\n",
    "    y.append(item[1])\n",
    "    z.append(item[2])\n",
    "\n",
    "fig = plt.figure()\n",
    "ax = fig.add_subplot(111, projection='3d')\n",
    "ax.set_xlabel('min_sample_split')\n",
    "ax.set_ylabel('max_depth')\n",
    "ax.set_zlabel('MARD(%)')\n",
    "ax.scatter3D(x, y, z, marker='o',c='b')\n",
    "\n",
    "plt.show()"
   ]
  },
  {
   "cell_type": "markdown",
   "metadata": {},
   "source": [
    "### 3/3- Using Random Forest "
   ]
  },
  {
   "cell_type": "code",
   "execution_count": 471,
   "metadata": {},
   "outputs": [],
   "source": [
    "from sklearn.ensemble import RandomForestRegressor\n",
    "\n",
    "rfclf = RandomForestRegressor(n_estimators=100, random_state=42)\n",
    "rfclf.fit(X_train, y_train)\n",
    "predictions_test = rfclf.predict(X_test) # Predictions"
   ]
  },
  {
   "cell_type": "markdown",
   "metadata": {},
   "source": [
    "#### Statistical Analysis of Random Forest "
   ]
  },
  {
   "cell_type": "code",
   "execution_count": 113,
   "metadata": {},
   "outputs": [],
   "source": [
    "df_predict_y_test = pd.DataFrame(predictions_test)\n",
    "df_X_test= pd.DataFrame(X_test)\n",
    "dfs = [df_X_test,df_predict_y_test]\n",
    "df_test_predict = pd.concat(dfs, axis=1)\n",
    "df_test_predict.columns = features + [target+'pred']\n",
    "\n",
    "df_final_compared_test = df_test_predict.merge(df_sub, how='left', on=features)\n",
    "\n",
    "# MARD\n",
    "def diff_mard(row):\n",
    "    return abs(row[0]-row[1])/row[1]\n",
    "\n",
    "df_final_compared_test['diff_mard'] = df_final_compared_test[[target+'pred',target]].apply(diff_mard, axis=1)\n",
    "MARD = (100 / df_final_compared_test.shape[0] * sum(df_final_compared_test['diff_mard']))\n",
    "\n",
    "\n",
    "# MAD\n",
    "def diff_mad(row):\n",
    "    return abs(row[0]-row[1])\n",
    "\n",
    "df_final_compared_test['diff_mad'] = df_final_compared_test[[target+'pred',target]].apply(diff_mad, axis=1)\n",
    "MAD = (100 / df_final_compared_test.shape[0] * sum(df_final_compared_test['diff_mad']))\n",
    "\n",
    "# MSD\n",
    "def diff_msd(row):\n",
    "    return (row[0]-row[1])*(row[0]-row[1])\n",
    "\n",
    "df_final_compared_test['diff_msd'] = df_final_compared_test[[target+'pred',target]].apply(diff_msd, axis=1)\n",
    "MSD = (1 / df_final_compared_test.shape[0] * sum(df_final_compared_test['diff_msd']))\n",
    "\n",
    "def diff_R21(row):\n",
    "    return (row[0]-row[1])*(row[0]-row[1])\n",
    "def diff_R22(row):\n",
    "    return row*row\n",
    "\n",
    "df_final_compared_test['diff_R21'] = df_final_compared_test[[target+'pred',target]].apply(diff_R21, axis=1)\n",
    "df_final_compared_test['diff_R22'] = df_final_compared_test[target].apply(diff_R22)\n",
    "R2 = (1 - sum(df_final_compared_test['diff_R21'])/sum(df_final_compared_test['diff_R22']))"
   ]
  },
  {
   "cell_type": "code",
   "execution_count": 114,
   "metadata": {
    "scrolled": true
   },
   "outputs": [
    {
     "name": "stdout",
     "output_type": "stream",
     "text": [
      "MARD 9.807316705117673 MAD 369.42708163710324 MSD 25.271725334329545 R2 0.9830558991643408\n"
     ]
    }
   ],
   "source": [
    "print('MARD', MARD, 'MAD', MAD, 'MSD', MSD, 'R2', R2)"
   ]
  },
  {
   "attachments": {
    "image.png": {
     "image/png": "[encoded data removed]"
    }
   },
   "cell_type": "markdown",
   "metadata": {},
   "source": [
    "![image.png](attachment:image.png)"
   ]
  },
  {
   "cell_type": "markdown",
   "metadata": {},
   "source": [
    "# Decision Tree (Random Forest) Classification "
   ]
  },
  {
   "cell_type": "code",
   "execution_count": 137,
   "metadata": {},
   "outputs": [
    {
     "name": "stdout",
     "output_type": "stream",
     "text": [
      "Train accuracy: 1.0\n",
      "Test accuracy: 0.71\n",
      "\n",
      "Test confusion_matrix\n"
     ]
    },
    {
     "data": {
      "text/plain": [
       "Text(33.0, 0.5, 'True')"
      ]
     },
     "execution_count": 137,
     "metadata": {},
     "output_type": "execute_result"
    },
    {
     "data": {
      "image/png": "[encoded data removed]",
      "text/plain": [
       "<Figure size 432x288 with 2 Axes>"
      ]
     },
     "metadata": {
      "needs_background": "light"
     },
     "output_type": "display_data"
    }
   ],
   "source": [
    "import numpy as np\n",
    "import pandas as pd\n",
    "import seaborn as sns\n",
    "import matplotlib.pyplot as plt\n",
    "\n",
    "df = pd.read_csv(\"heart_disease.csv\")\n",
    "X = df.drop(columns=\"target\")\n",
    "y = df[\"target\"]\n",
    "\n",
    "from sklearn.model_selection import train_test_split\n",
    "X_train, X_test, y_train, y_test = train_test_split(X, y, test_size=0.10, \n",
    "                                                    random_state=0)\n",
    "\n",
    "from sklearn.tree import DecisionTreeClassifier\n",
    "dtclf = DecisionTreeClassifier(random_state=42)\n",
    "dtclf.fit(X_train, y_train)\n",
    "y_pred = dtclf.predict(X_test) # Predictions\n",
    "y_true = y_test # True values\n",
    "\n",
    "from sklearn.metrics import accuracy_score\n",
    "print(\"Train accuracy:\", np.round(accuracy_score(y_train, \n",
    "                                                 dtclf.predict(X_train)), 2))\n",
    "print(\"Test accuracy:\", np.round(accuracy_score(y_true, y_pred), 2))\n",
    "\n",
    "from sklearn.metrics import confusion_matrix\n",
    "cf_matrix = confusion_matrix(y_true, y_pred)\n",
    "print(\"\\nTest confusion_matrix\")\n",
    "sns.heatmap(cf_matrix, annot=True, cmap='Blues')\n",
    "plt.xlabel('Predicted', fontsize=12)\n",
    "plt.ylabel('True', fontsize=12)"
   ]
  },
  {
   "cell_type": "markdown",
   "metadata": {},
   "source": [
    "## Tuning Parameters"
   ]
  },
  {
   "cell_type": "markdown",
   "metadata": {},
   "source": [
    "### Method 1: Tuning max_depth alone "
   ]
  },
  {
   "cell_type": "code",
   "execution_count": 138,
   "metadata": {},
   "outputs": [
    {
     "data": {
      "image/png": "[encoded data removed]",
      "text/plain": [
       "<Figure size 576x396 with 1 Axes>"
      ]
     },
     "metadata": {},
     "output_type": "display_data"
    },
    {
     "name": "stdout",
     "output_type": "stream",
     "text": [
      "ValidationCurve(ax=<matplotlib.axes._subplots.AxesSubplot object at 0x0000025C8BEED588>,\n",
      "                cv=10,\n",
      "                estimator=DecisionTreeClassifier(ccp_alpha=0.0,\n",
      "                                                 class_weight=None,\n",
      "                                                 criterion='gini',\n",
      "                                                 max_depth=None,\n",
      "                                                 max_features=None,\n",
      "                                                 max_leaf_nodes=None,\n",
      "                                                 min_impurity_decrease=0.0,\n",
      "                                                 min_impurity_split=None,\n",
      "                                                 min_samples_leaf=1,\n",
      "                                                 min_samples_split=2,\n",
      "                                                 min_weight_fraction_leaf=0.0,\n",
      "                                                 presort='deprecated',\n",
      "                                                 random_state=42,\n",
      "                                                 splitter='best'),\n",
      "                groups=None, logx=False, n_jobs=-1, param_name='max_depth',\n",
      "                param_range=array([ 1,  2,  3,  4,  5,  6,  7,  8,  9, 10]),\n",
      "                pre_dispatch='all', scoring='accuracy')\n"
     ]
    }
   ],
   "source": [
    "from yellowbrick.model_selection import validation_curve \n",
    "from warnings import simplefilter\n",
    "# Ignore all future warnings\n",
    "simplefilter(action='ignore', category=FutureWarning)\n",
    "\n",
    "# Plot the validation curve\n",
    "print(validation_curve(dtclf, X, y, \n",
    "                       param_name=\"max_depth\", n_jobs=-1,\n",
    "                       param_range=np.arange(1, 11), \n",
    "                       cv=10, scoring=\"accuracy\"))"
   ]
  },
  {
   "cell_type": "markdown",
   "metadata": {},
   "source": [
    "**max_depth=3** is the best "
   ]
  },
  {
   "cell_type": "markdown",
   "metadata": {},
   "source": [
    "Let's re-fit by this new max_depth"
   ]
  },
  {
   "cell_type": "code",
   "execution_count": 139,
   "metadata": {},
   "outputs": [
    {
     "name": "stdout",
     "output_type": "stream",
     "text": [
      "Train accuracy: 0.84\n",
      "Test accuracy: 0.74\n",
      "\n",
      "Test confusion_matrix\n"
     ]
    },
    {
     "data": {
      "text/plain": [
       "Text(52.0, 0.5, 'True')"
      ]
     },
     "execution_count": 139,
     "metadata": {},
     "output_type": "execute_result"
    },
    {
     "data": {
      "image/png": "[encoded data removed]",
      "text/plain": [
       "<Figure size 576x396 with 2 Axes>"
      ]
     },
     "metadata": {},
     "output_type": "display_data"
    }
   ],
   "source": [
    "from sklearn.tree import DecisionTreeClassifier\n",
    "dtclf_2 = DecisionTreeClassifier(max_depth=3, random_state=42)\n",
    "dtclf_2.fit(X_train, y_train)\n",
    "y_pred = dtclf_2.predict(X_test) # Predictions\n",
    "y_true = y_test # True values\n",
    "\n",
    "from sklearn.metrics import accuracy_score\n",
    "print(\"Train accuracy:\", np.round(accuracy_score(y_train, \n",
    "                                                 dtclf_2.predict(X_train)), 2))\n",
    "print(\"Test accuracy:\", np.round(accuracy_score(y_true, y_pred), 2))\n",
    "\n",
    "from sklearn.metrics import confusion_matrix\n",
    "cf_matrix = confusion_matrix(y_true, y_pred)\n",
    "print(\"\\nTest confusion_matrix\")\n",
    "sns.heatmap(cf_matrix, annot=True, cmap='Blues')\n",
    "plt.xlabel('Predicted', fontsize=12)\n",
    "plt.ylabel('True', fontsize=12)"
   ]
  },
  {
   "cell_type": "markdown",
   "metadata": {},
   "source": [
    "### Method 2: Tuning multiple hyperparameters at once "
   ]
  },
  {
   "cell_type": "code",
   "execution_count": 140,
   "metadata": {},
   "outputs": [
    {
     "name": "stdout",
     "output_type": "stream",
     "text": [
      "Optimal hyperparameter combination: {'max_depth': 6, 'min_samples_leaf': 6, 'min_samples_split': 2}\n",
      "\n",
      "Mean cross-validated training accuracy score: 0.7723544973544973\n",
      "Test accuracy: 0.87\n"
     ]
    },
    {
     "data": {
      "text/plain": [
       "Text(52.0, 0.5, 'True')"
      ]
     },
     "execution_count": 140,
     "metadata": {},
     "output_type": "execute_result"
    },
    {
     "data": {
      "image/png": "[encoded data removed]",
      "text/plain": [
       "<Figure size 576x396 with 2 Axes>"
      ]
     },
     "metadata": {},
     "output_type": "display_data"
    }
   ],
   "source": [
    "# Defining 3-dimensional hyperparameter space as a Python dictionary\n",
    "hyperparameter_space = {'max_depth':[2,3,4,6,8,10,12,15,20], \n",
    "                        'min_samples_leaf':[1,2,4,6,8,10,20,30],\n",
    "                        'min_samples_split':[1,2,3,4,5,6,8,10]}\n",
    "\n",
    "from sklearn.model_selection import GridSearchCV\n",
    "gs = GridSearchCV(dtclf, param_grid=hyperparameter_space, \n",
    "                  scoring=\"accuracy\",\n",
    "                  n_jobs=-1, cv=10, return_train_score=True)\n",
    "\n",
    "gs.fit(X_train, y_train)\n",
    "print(\"Optimal hyperparameter combination:\", gs.best_params_)\n",
    "print()\n",
    "print(\"Mean cross-validated training accuracy score:\",\n",
    "      gs.best_score_)\n",
    "gs.best_estimator_.fit(X_train, y_train)\n",
    "y_pred = gs.best_estimator_.predict(X_test) # Predictions\n",
    "y_true = y_test # True values\n",
    "\n",
    "print(\"Test accuracy:\", np.round(accuracy_score(y_true, y_pred), 2))\n",
    "cf_matrix = confusion_matrix(y_true, y_pred)\n",
    "import seaborn as sns\n",
    "import matplotlib.pyplot as plt\n",
    "sns.heatmap(cf_matrix, annot=True, cmap='Blues')\n",
    "plt.xlabel('Predicted')\n",
    "plt.ylabel('True')"
   ]
  },
  {
   "cell_type": "markdown",
   "metadata": {},
   "source": [
    "### Method 3: Cost-complexity pruning (ccp)"
   ]
  },
  {
   "cell_type": "code",
   "execution_count": 142,
   "metadata": {},
   "outputs": [
    {
     "data": {
      "text/plain": [
       "array([0.        , 0.0033701 , 0.00341387, 0.00351662, 0.00356834,\n",
       "       0.00360963, 0.00441176, 0.00490196, 0.00551471, 0.00554753,\n",
       "       0.00588235, 0.00588235, 0.00608812, 0.00630252, 0.00630252,\n",
       "       0.00668449, 0.00682639, 0.00687364, 0.00689935, 0.00972426,\n",
       "       0.00993829, 0.01315789, 0.01382556, 0.01444906, 0.02070223,\n",
       "       0.02895356, 0.05648774, 0.12929717])"
      ]
     },
     "execution_count": 142,
     "metadata": {},
     "output_type": "execute_result"
    }
   ],
   "source": [
    "path = dtclf.cost_complexity_pruning_path(X_train, y_train)\n",
    "ccp_alphas = path.ccp_alphas\n",
    "ccp_alphas"
   ]
  },
  {
   "cell_type": "markdown",
   "metadata": {},
   "source": [
    "#### Loop for varioys ccp_alpha "
   ]
  },
  {
   "cell_type": "code",
   "execution_count": 143,
   "metadata": {},
   "outputs": [],
   "source": [
    "acc_train = []\n",
    "acc_test = []\n",
    "\n",
    "for val in ccp_alphas:\n",
    "  dtclf = DecisionTreeClassifier(ccp_alpha=val, random_state=42)\n",
    "  dtclf.fit(X_train, y_train)\n",
    "  y_pred = dtclf.predict(X_test) # Predictions\n",
    "  y_true = y_test # True values\n",
    "  acc_train.append(accuracy_score(y_train, dtclf.predict(X_train)))\n",
    "  acc_test.append(accuracy_score(y_true, y_pred))"
   ]
  },
  {
   "cell_type": "markdown",
   "metadata": {},
   "source": [
    "#### Plot the results "
   ]
  },
  {
   "cell_type": "code",
   "execution_count": 144,
   "metadata": {},
   "outputs": [
    {
     "data": {
      "image/png": "[encoded data removed]",
      "text/plain": [
       "<Figure size 576x396 with 1 Axes>"
      ]
     },
     "metadata": {},
     "output_type": "display_data"
    }
   ],
   "source": [
    "plt.plot(ccp_alphas, acc_train, marker='o', label=\"train\",\n",
    "         drawstyle=\"steps-post\")\n",
    "plt.plot(ccp_alphas, acc_test, marker='o', label=\"test\",\n",
    "         drawstyle=\"steps-post\")\n",
    "plt.title(\"Accuracy vs alpha for training and testing sets\")\n",
    "plt.xlabel(\"Alpha\")\n",
    "plt.ylabel(\"Accuracy\")\n",
    "plt.legend()\n",
    "plt.savefig(\"plot.png\")"
   ]
  },
  {
   "cell_type": "markdown",
   "metadata": {},
   "source": [
    "optimal alpha value that mitigates overfitting in our decision tree model is **0.06**\n",
    "<br>\n",
    "we create the decision tree again by setting **ccp_alpha=0.06**"
   ]
  },
  {
   "cell_type": "code",
   "execution_count": 145,
   "metadata": {},
   "outputs": [
    {
     "name": "stdout",
     "output_type": "stream",
     "text": [
      "Train accuracy: 0.76\n",
      "Test accuracy: 0.77\n",
      "\n",
      "Test confusion_matrix\n"
     ]
    },
    {
     "data": {
      "text/plain": [
       "Text(52.0, 0.5, 'True')"
      ]
     },
     "execution_count": 145,
     "metadata": {},
     "output_type": "execute_result"
    },
    {
     "data": {
      "image/png": "[encoded data removed]",
      "text/plain": [
       "<Figure size 576x396 with 2 Axes>"
      ]
     },
     "metadata": {},
     "output_type": "display_data"
    }
   ],
   "source": [
    "from sklearn.tree import DecisionTreeClassifier\n",
    "dtclf_3 = DecisionTreeClassifier(ccp_alpha=0.06, random_state=42)\n",
    "dtclf_3.fit(X_train, y_train)\n",
    "y_pred = dtclf_3.predict(X_test) # Predictions\n",
    "y_true = y_test # True values\n",
    "\n",
    "from sklearn.metrics import accuracy_score\n",
    "print(\"Train accuracy:\", np.round(accuracy_score(y_train, \n",
    "                                                 dtclf_3.predict(X_train)), 2))\n",
    "print(\"Test accuracy:\", np.round(accuracy_score(y_true, y_pred), 2))\n",
    "\n",
    "from sklearn.metrics import confusion_matrix\n",
    "cf_matrix = confusion_matrix(y_true, y_pred)\n",
    "print(\"\\nTest confusion_matrix\")\n",
    "sns.heatmap(cf_matrix, annot=True, cmap='Blues')\n",
    "plt.xlabel('Predicted', fontsize=12)\n",
    "plt.ylabel('True', fontsize=12)"
   ]
  },
  {
   "cell_type": "markdown",
   "metadata": {},
   "source": [
    "## Method 4: Creating a random forest"
   ]
  },
  {
   "cell_type": "code",
   "execution_count": 147,
   "metadata": {},
   "outputs": [
    {
     "name": "stdout",
     "output_type": "stream",
     "text": [
      "Train accuracy: 1.0\n",
      "Test accuracy: 0.84\n",
      "\n",
      "Test confusion_matrix\n"
     ]
    },
    {
     "data": {
      "text/plain": [
       "Text(52.0, 0.5, 'True')"
      ]
     },
     "execution_count": 147,
     "metadata": {},
     "output_type": "execute_result"
    },
    {
     "data": {
      "image/png": "[encoded data removed]",
      "text/plain": [
       "<Figure size 576x396 with 2 Axes>"
      ]
     },
     "metadata": {},
     "output_type": "display_data"
    }
   ],
   "source": [
    "from sklearn.ensemble import RandomForestClassifier\n",
    "rfclf = RandomForestClassifier(n_estimators=100, random_state=42)\n",
    "rfclf.fit(X_train, y_train)\n",
    "y_pred = rfclf.predict(X_test) # Predictions\n",
    "y_true = y_test # True values\n",
    "\n",
    "from sklearn.metrics import accuracy_score\n",
    "print(\"Train accuracy:\", np.round(accuracy_score(y_train, \n",
    "                                                 rfclf.predict(X_train)), 2))\n",
    "print(\"Test accuracy:\", np.round(accuracy_score(y_true, y_pred), 2))\n",
    "\n",
    "from sklearn.metrics import confusion_matrix\n",
    "cf_matrix = confusion_matrix(y_true, y_pred)\n",
    "print(\"\\nTest confusion_matrix\")\n",
    "sns.heatmap(cf_matrix, annot=True, cmap='Blues')\n",
    "plt.xlabel('Predicted', fontsize=12)\n",
    "plt.ylabel('True', fontsize=12)"
   ]
  },
  {
   "cell_type": "markdown",
   "metadata": {},
   "source": [
    "The model evaluation metric that we’ve used here is the “Accuracy” metric which is not the best option when the target variable has a class imbalance. We can check whether the target variable of our “heart_disease” dataset has a class imbalance or not:\n",
    " "
   ]
  },
  {
   "cell_type": "code",
   "execution_count": 148,
   "metadata": {},
   "outputs": [
    {
     "data": {
      "text/plain": [
       "<seaborn.axisgrid.FacetGrid at 0x25c8a0f8488>"
      ]
     },
     "execution_count": 148,
     "metadata": {},
     "output_type": "execute_result"
    },
    {
     "data": {
      "image/png": "[encoded data removed]",
      "text/plain": [
       "<Figure size 288x288 with 1 Axes>"
      ]
     },
     "metadata": {},
     "output_type": "display_data"
    }
   ],
   "source": [
    "import seaborn as sns\n",
    "sns.catplot(\"target\", data=df, kind=\"count\",\n",
    "            aspect=1.0, height=4)"
   ]
  },
  {
   "cell_type": "markdown",
   "metadata": {},
   "source": [
    "There is no apparent class imbalance in our target variable."
   ]
  },
  {
   "cell_type": "markdown",
   "metadata": {},
   "source": [
    "Various metrics to analysis the data in Scikitlearn:\n",
    "<br>\n",
    "https://scikit-learn.org/stable/modules/model_evaluation.html"
   ]
  },
  {
   "cell_type": "code",
   "execution_count": null,
   "metadata": {},
   "outputs": [],
   "source": []
  }
 ],
 "metadata": {
  "kernelspec": {
   "display_name": "Python 3",
   "language": "python",
   "name": "python3"
  },
  "language_info": {
   "codemirror_mode": {
    "name": "ipython",
    "version": 3
   },
   "file_extension": ".py",
   "mimetype": "text/x-python",
   "name": "python",
   "nbconvert_exporter": "python",
   "pygments_lexer": "ipython3",
   "version": "3.7.6"
  }
 },
 "nbformat": 4,
 "nbformat_minor": 4
}
